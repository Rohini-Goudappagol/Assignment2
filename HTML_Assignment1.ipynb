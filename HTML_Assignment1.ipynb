{
  "nbformat": 4,
  "nbformat_minor": 0,
  "metadata": {
    "colab": {
      "provenance": []
    },
    "kernelspec": {
      "name": "python3",
      "display_name": "Python 3"
    },
    "language_info": {
      "name": "python"
    }
  },
  "cells": [
    {
      "cell_type": "markdown",
      "source": [
        "1. Write a simple program in HTML  that displays the heading \"HTML defines the content and structure of your website” on the web browser\n",
        "\n",
        "<!DOCTYPE html>\n",
        "<html lang=\"en\">\n",
        "<head>\n",
        "    <meta charset=\"UTF-8\">\n",
        "    <meta name=\"viewport\" content=\"width=device-width, initial-scale=1.0\">\n",
        "    <title>Document</title>\n",
        "</head>\n",
        "<body>\n",
        "    <h1>\n",
        "      HTML defines the content and structure of your website\n",
        "    </h1>\n",
        "</body>\n",
        "</html>"
      ],
      "metadata": {
        "id": "FNef9KaB8XTa"
      }
    },
    {
      "cell_type": "markdown",
      "source": [
        "2. Explain the purpose of comments in HTML and provide an example of how to use comments in an HTML document?\n",
        "     - comments helps to add notes in the document or extra peice of code which is not read by browser and its for documentation\n",
        "     - < !-- comments --> like this we can use comments in an Html document."
      ],
      "metadata": {
        "id": "t4WCIqMi8doY"
      }
    },
    {
      "cell_type": "markdown",
      "source": [
        "3. Write an HTML program that includes a heading, a paragraph of text, a horizontal line, and a line break.Arrange these elements to create a simple web page layout\n",
        "\n",
        "<!DOCTYPE html>\n",
        "<html lang=\"en\">\n",
        "<head>\n",
        "    <meta charset=\"UTF-8\">\n",
        "    <meta name=\"viewport\" content=\"width=device-width, initial-scale=1.0\">\n",
        "    <title>Document</title>\n",
        "</head>\n",
        "<body>\n",
        "    <h1>HTML defines the content and structure of your website</h1>\n",
        "    <hr>\n",
        "    <p>Lorem ipsum dolor, sit amet consectetur adipisicing elit.<br> Commodi ea voluptas autem dolorem laboriosam repudiandae excepturi molestias delectus et enim repellendus voluptates, eum sequi facilis quas hic nostrum? Quos minus nesciunt deleniti, animi earum doloremque libero beatae minima rerum commodi sint architecto inventore consequuntur voluptatem.<br> Quod velit molestias soluta necessitatibus saepe harum ipsam. <br> Porro ipsam debitis, aliquam voluptatibus dicta temporibus eaque sunt iste animi enim nulla accusamus accusantium facilis voluptatem sapiente modi fugit. Quam quae nostrum velit tempora eveniet repudiandae vel molestiae delectus. Beatae enim maiores magni laborum, temporibus quo, facilis rerum minima velit at repudiandae, dolores necessitatibus. Hic, deleniti.</p>\n",
        "</body>\n",
        "</html>"
      ],
      "metadata": {
        "id": "3TSFVEHGDUno"
      }
    },
    {
      "cell_type": "markdown",
      "source": [
        "4. Write a short note on Tag and element with an example.\n",
        "    - Tag is a smallest individual unit in html.\n",
        "    - Using multiple tags we can create web pages. ie using tags we can create  \n",
        "     a structure of the webpages.\n",
        "    - there are two types of tags\n",
        "    - 1. self closing tags : the tags which don't have seperate closing tags.\n",
        "      for example < img/> tag\n",
        "    - 2. non-self closing tags : the tags which have pair of opening and  \n",
        "      closing tags. for example < div> content < /div>"
      ],
      "metadata": {
        "id": "c-tQPtqs_SNM"
      }
    },
    {
      "cell_type": "markdown",
      "source": [
        "5. What is the DOCTYPE Declaration in HTML?\n",
        "    - DOCTYPE Declaration is a crucial instruction to the browser, informing it about the document type and version, ensuring proper rendering and compatability across different browsers"
      ],
      "metadata": {
        "id": "6Anc79dbAp8p"
      }
    }
  ]
}